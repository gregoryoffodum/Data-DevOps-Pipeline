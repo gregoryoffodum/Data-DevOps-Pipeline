{
 "cells": [
  {
   "cell_type": "markdown",
   "id": "ae456ade",
   "metadata": {},
   "source": [
    "## Import relevant libraries"
   ]
  },
  {
   "cell_type": "code",
   "execution_count": 1,
   "id": "7066554f",
   "metadata": {},
   "outputs": [],
   "source": [
    "import pandas as pd"
   ]
  },
  {
   "cell_type": "markdown",
   "id": "44076739",
   "metadata": {},
   "source": [
    "## Read and wrangle Station Inventory data"
   ]
  },
  {
   "cell_type": "code",
   "execution_count": 2,
   "id": "7f777094",
   "metadata": {},
   "outputs": [],
   "source": [
    "#skip first 3 rows contining metadata\n",
    "data=pd.read_csv('Station Inventory EN.csv',  skiprows=3)"
   ]
  },
  {
   "cell_type": "code",
   "execution_count": 3,
   "id": "5f894f0c",
   "metadata": {},
   "outputs": [
    {
     "data": {
      "text/plain": [
       "8794"
      ]
     },
     "execution_count": 3,
     "metadata": {},
     "output_type": "execute_result"
    }
   ],
   "source": [
    "len(data)"
   ]
  },
  {
   "cell_type": "code",
   "execution_count": 4,
   "id": "c94f9ce5",
   "metadata": {},
   "outputs": [
    {
     "name": "stdout",
     "output_type": "stream",
     "text": [
      "Name\n",
      "Province\n",
      "Climate ID\n",
      "Station ID\n",
      "WMO ID\n",
      "TC ID\n",
      "Latitude (Decimal Degrees)\n",
      "Longitude (Decimal Degrees)\n",
      "Latitude\n",
      "Longitude\n",
      "Elevation (m)\n",
      "First Year\n",
      "Last Year\n",
      "HLY First Year\n",
      "HLY Last Year\n",
      "DLY First Year\n",
      "DLY Last Year\n",
      "MLY First Year\n",
      "MLY Last Year\n"
     ]
    }
   ],
   "source": [
    "for col in data.columns:\n",
    "    print(col)"
   ]
  },
  {
   "cell_type": "code",
   "execution_count": 5,
   "id": "e627ce74",
   "metadata": {
    "scrolled": true
   },
   "outputs": [
    {
     "data": {
      "text/html": [
       "<div>\n",
       "<style scoped>\n",
       "    .dataframe tbody tr th:only-of-type {\n",
       "        vertical-align: middle;\n",
       "    }\n",
       "\n",
       "    .dataframe tbody tr th {\n",
       "        vertical-align: top;\n",
       "    }\n",
       "\n",
       "    .dataframe thead th {\n",
       "        text-align: right;\n",
       "    }\n",
       "</style>\n",
       "<table border=\"1\" class=\"dataframe\">\n",
       "  <thead>\n",
       "    <tr style=\"text-align: right;\">\n",
       "      <th></th>\n",
       "      <th>Name</th>\n",
       "      <th>Province</th>\n",
       "      <th>Climate ID</th>\n",
       "      <th>Station ID</th>\n",
       "      <th>WMO ID</th>\n",
       "      <th>TC ID</th>\n",
       "      <th>Latitude (Decimal Degrees)</th>\n",
       "      <th>Longitude (Decimal Degrees)</th>\n",
       "      <th>Latitude</th>\n",
       "      <th>Longitude</th>\n",
       "      <th>Elevation (m)</th>\n",
       "      <th>First Year</th>\n",
       "      <th>Last Year</th>\n",
       "      <th>HLY First Year</th>\n",
       "      <th>HLY Last Year</th>\n",
       "      <th>DLY First Year</th>\n",
       "      <th>DLY Last Year</th>\n",
       "      <th>MLY First Year</th>\n",
       "      <th>MLY Last Year</th>\n",
       "    </tr>\n",
       "  </thead>\n",
       "  <tbody>\n",
       "    <tr>\n",
       "      <th>0</th>\n",
       "      <td>ACTIVE PASS</td>\n",
       "      <td>BRITISH COLUMBIA</td>\n",
       "      <td>1010066</td>\n",
       "      <td>14</td>\n",
       "      <td>NaN</td>\n",
       "      <td>NaN</td>\n",
       "      <td>48.87</td>\n",
       "      <td>-123.28</td>\n",
       "      <td>485200000.0</td>\n",
       "      <td>-1.231700e+09</td>\n",
       "      <td>4.0</td>\n",
       "      <td>1984</td>\n",
       "      <td>1996</td>\n",
       "      <td>NaN</td>\n",
       "      <td>NaN</td>\n",
       "      <td>1984.0</td>\n",
       "      <td>1996.0</td>\n",
       "      <td>1984.0</td>\n",
       "      <td>1996.0</td>\n",
       "    </tr>\n",
       "    <tr>\n",
       "      <th>1</th>\n",
       "      <td>ALBERT HEAD</td>\n",
       "      <td>BRITISH COLUMBIA</td>\n",
       "      <td>1010235</td>\n",
       "      <td>15</td>\n",
       "      <td>NaN</td>\n",
       "      <td>NaN</td>\n",
       "      <td>48.40</td>\n",
       "      <td>-123.48</td>\n",
       "      <td>482400000.0</td>\n",
       "      <td>-1.232900e+09</td>\n",
       "      <td>17.0</td>\n",
       "      <td>1971</td>\n",
       "      <td>1995</td>\n",
       "      <td>NaN</td>\n",
       "      <td>NaN</td>\n",
       "      <td>1971.0</td>\n",
       "      <td>1995.0</td>\n",
       "      <td>1971.0</td>\n",
       "      <td>1995.0</td>\n",
       "    </tr>\n",
       "    <tr>\n",
       "      <th>2</th>\n",
       "      <td>BAMBERTON OCEAN CEMENT</td>\n",
       "      <td>BRITISH COLUMBIA</td>\n",
       "      <td>1010595</td>\n",
       "      <td>16</td>\n",
       "      <td>NaN</td>\n",
       "      <td>NaN</td>\n",
       "      <td>48.58</td>\n",
       "      <td>-123.52</td>\n",
       "      <td>483500000.0</td>\n",
       "      <td>-1.233100e+09</td>\n",
       "      <td>85.3</td>\n",
       "      <td>1961</td>\n",
       "      <td>1980</td>\n",
       "      <td>NaN</td>\n",
       "      <td>NaN</td>\n",
       "      <td>1961.0</td>\n",
       "      <td>1980.0</td>\n",
       "      <td>1961.0</td>\n",
       "      <td>1980.0</td>\n",
       "    </tr>\n",
       "    <tr>\n",
       "      <th>3</th>\n",
       "      <td>BEAR CREEK</td>\n",
       "      <td>BRITISH COLUMBIA</td>\n",
       "      <td>1010720</td>\n",
       "      <td>17</td>\n",
       "      <td>NaN</td>\n",
       "      <td>NaN</td>\n",
       "      <td>48.50</td>\n",
       "      <td>-124.00</td>\n",
       "      <td>483000000.0</td>\n",
       "      <td>-1.240000e+09</td>\n",
       "      <td>350.5</td>\n",
       "      <td>1910</td>\n",
       "      <td>1971</td>\n",
       "      <td>NaN</td>\n",
       "      <td>NaN</td>\n",
       "      <td>1910.0</td>\n",
       "      <td>1971.0</td>\n",
       "      <td>1910.0</td>\n",
       "      <td>1971.0</td>\n",
       "    </tr>\n",
       "    <tr>\n",
       "      <th>4</th>\n",
       "      <td>BEAVER LAKE</td>\n",
       "      <td>BRITISH COLUMBIA</td>\n",
       "      <td>1010774</td>\n",
       "      <td>18</td>\n",
       "      <td>NaN</td>\n",
       "      <td>NaN</td>\n",
       "      <td>48.50</td>\n",
       "      <td>-123.35</td>\n",
       "      <td>483000000.0</td>\n",
       "      <td>-1.232100e+09</td>\n",
       "      <td>61.0</td>\n",
       "      <td>1894</td>\n",
       "      <td>1952</td>\n",
       "      <td>NaN</td>\n",
       "      <td>NaN</td>\n",
       "      <td>1894.0</td>\n",
       "      <td>1952.0</td>\n",
       "      <td>1894.0</td>\n",
       "      <td>1952.0</td>\n",
       "    </tr>\n",
       "  </tbody>\n",
       "</table>\n",
       "</div>"
      ],
      "text/plain": [
       "                     Name          Province Climate ID  Station ID  WMO ID  \\\n",
       "0             ACTIVE PASS  BRITISH COLUMBIA    1010066          14     NaN   \n",
       "1             ALBERT HEAD  BRITISH COLUMBIA    1010235          15     NaN   \n",
       "2  BAMBERTON OCEAN CEMENT  BRITISH COLUMBIA    1010595          16     NaN   \n",
       "3              BEAR CREEK  BRITISH COLUMBIA    1010720          17     NaN   \n",
       "4             BEAVER LAKE  BRITISH COLUMBIA    1010774          18     NaN   \n",
       "\n",
       "  TC ID  Latitude (Decimal Degrees)  Longitude (Decimal Degrees)     Latitude  \\\n",
       "0   NaN                       48.87                      -123.28  485200000.0   \n",
       "1   NaN                       48.40                      -123.48  482400000.0   \n",
       "2   NaN                       48.58                      -123.52  483500000.0   \n",
       "3   NaN                       48.50                      -124.00  483000000.0   \n",
       "4   NaN                       48.50                      -123.35  483000000.0   \n",
       "\n",
       "      Longitude  Elevation (m)  First Year  Last Year  HLY First Year  \\\n",
       "0 -1.231700e+09            4.0        1984       1996             NaN   \n",
       "1 -1.232900e+09           17.0        1971       1995             NaN   \n",
       "2 -1.233100e+09           85.3        1961       1980             NaN   \n",
       "3 -1.240000e+09          350.5        1910       1971             NaN   \n",
       "4 -1.232100e+09           61.0        1894       1952             NaN   \n",
       "\n",
       "   HLY Last Year  DLY First Year  DLY Last Year  MLY First Year  MLY Last Year  \n",
       "0            NaN          1984.0         1996.0          1984.0         1996.0  \n",
       "1            NaN          1971.0         1995.0          1971.0         1995.0  \n",
       "2            NaN          1961.0         1980.0          1961.0         1980.0  \n",
       "3            NaN          1910.0         1971.0          1910.0         1971.0  \n",
       "4            NaN          1894.0         1952.0          1894.0         1952.0  "
      ]
     },
     "execution_count": 5,
     "metadata": {},
     "output_type": "execute_result"
    }
   ],
   "source": [
    "data.head()"
   ]
  },
  {
   "cell_type": "markdown",
   "id": "82411096",
   "metadata": {},
   "source": [
    "## Get Station ID for Toronto for weather data query "
   ]
  },
  {
   "cell_type": "code",
   "execution_count": 6,
   "id": "c65b4057",
   "metadata": {},
   "outputs": [
    {
     "data": {
      "text/html": [
       "<div>\n",
       "<style scoped>\n",
       "    .dataframe tbody tr th:only-of-type {\n",
       "        vertical-align: middle;\n",
       "    }\n",
       "\n",
       "    .dataframe tbody tr th {\n",
       "        vertical-align: top;\n",
       "    }\n",
       "\n",
       "    .dataframe thead th {\n",
       "        text-align: right;\n",
       "    }\n",
       "</style>\n",
       "<table border=\"1\" class=\"dataframe\">\n",
       "  <thead>\n",
       "    <tr style=\"text-align: right;\">\n",
       "      <th></th>\n",
       "      <th>Name</th>\n",
       "      <th>Province</th>\n",
       "      <th>Climate ID</th>\n",
       "      <th>Station ID</th>\n",
       "      <th>WMO ID</th>\n",
       "      <th>TC ID</th>\n",
       "      <th>Latitude (Decimal Degrees)</th>\n",
       "      <th>Longitude (Decimal Degrees)</th>\n",
       "      <th>Latitude</th>\n",
       "      <th>Longitude</th>\n",
       "      <th>Elevation (m)</th>\n",
       "      <th>First Year</th>\n",
       "      <th>Last Year</th>\n",
       "      <th>HLY First Year</th>\n",
       "      <th>HLY Last Year</th>\n",
       "      <th>DLY First Year</th>\n",
       "      <th>DLY Last Year</th>\n",
       "      <th>MLY First Year</th>\n",
       "      <th>MLY Last Year</th>\n",
       "    </tr>\n",
       "  </thead>\n",
       "  <tbody>\n",
       "    <tr>\n",
       "      <th>6563</th>\n",
       "      <td>TORONTO</td>\n",
       "      <td>ONTARIO</td>\n",
       "      <td>6158350</td>\n",
       "      <td>5051</td>\n",
       "      <td>71266.0</td>\n",
       "      <td>NaN</td>\n",
       "      <td>43.67</td>\n",
       "      <td>-79.4</td>\n",
       "      <td>434000000.0</td>\n",
       "      <td>-792400000.0</td>\n",
       "      <td>112.5</td>\n",
       "      <td>1840</td>\n",
       "      <td>2017</td>\n",
       "      <td>1953.0</td>\n",
       "      <td>1969.0</td>\n",
       "      <td>1840.0</td>\n",
       "      <td>2017.0</td>\n",
       "      <td>1840.0</td>\n",
       "      <td>2006.0</td>\n",
       "    </tr>\n",
       "  </tbody>\n",
       "</table>\n",
       "</div>"
      ],
      "text/plain": [
       "         Name Province Climate ID  Station ID   WMO ID TC ID  \\\n",
       "6563  TORONTO  ONTARIO    6158350        5051  71266.0   NaN   \n",
       "\n",
       "      Latitude (Decimal Degrees)  Longitude (Decimal Degrees)     Latitude  \\\n",
       "6563                       43.67                        -79.4  434000000.0   \n",
       "\n",
       "        Longitude  Elevation (m)  First Year  Last Year  HLY First Year  \\\n",
       "6563 -792400000.0          112.5        1840       2017          1953.0   \n",
       "\n",
       "      HLY Last Year  DLY First Year  DLY Last Year  MLY First Year  \\\n",
       "6563         1969.0          1840.0         2017.0          1840.0   \n",
       "\n",
       "      MLY Last Year  \n",
       "6563         2006.0  "
      ]
     },
     "execution_count": 6,
     "metadata": {},
     "output_type": "execute_result"
    }
   ],
   "source": [
    "data[data['Name']=='TORONTO']"
   ]
  },
  {
   "cell_type": "code",
   "execution_count": 7,
   "id": "4bef45c5",
   "metadata": {},
   "outputs": [
    {
     "data": {
      "text/plain": [
       "5051"
      ]
     },
     "execution_count": 7,
     "metadata": {},
     "output_type": "execute_result"
    }
   ],
   "source": [
    "data._get_value(6563, 'Station ID')\n",
    "#5051 will be used to query for weather data"
   ]
  },
  {
   "cell_type": "markdown",
   "id": "fa0b5641",
   "metadata": {},
   "source": [
    "## Read and wrangle Weather data"
   ]
  },
  {
   "cell_type": "code",
   "execution_count": 8,
   "id": "2f6bc331",
   "metadata": {},
   "outputs": [],
   "source": [
    "# after ownloading weather data\n",
    "weather_data = pd.read_csv('en_climate_monthly_ON_6158350_1840-2006_P1M.csv')"
   ]
  },
  {
   "cell_type": "code",
   "execution_count": 9,
   "id": "778ab48b",
   "metadata": {},
   "outputs": [
    {
     "data": {
      "text/html": [
       "<div>\n",
       "<style scoped>\n",
       "    .dataframe tbody tr th:only-of-type {\n",
       "        vertical-align: middle;\n",
       "    }\n",
       "\n",
       "    .dataframe tbody tr th {\n",
       "        vertical-align: top;\n",
       "    }\n",
       "\n",
       "    .dataframe thead th {\n",
       "        text-align: right;\n",
       "    }\n",
       "</style>\n",
       "<table border=\"1\" class=\"dataframe\">\n",
       "  <thead>\n",
       "    <tr style=\"text-align: right;\">\n",
       "      <th></th>\n",
       "      <th>Longitude (x)</th>\n",
       "      <th>Latitude (y)</th>\n",
       "      <th>Station Name</th>\n",
       "      <th>Climate ID</th>\n",
       "      <th>Date/Time</th>\n",
       "      <th>Year</th>\n",
       "      <th>Month</th>\n",
       "      <th>Mean Max Temp (°C)</th>\n",
       "      <th>Mean Max Temp Flag</th>\n",
       "      <th>Mean Min Temp (°C)</th>\n",
       "      <th>...</th>\n",
       "      <th>Total Snow (cm)</th>\n",
       "      <th>Total Snow Flag</th>\n",
       "      <th>Total Precip (mm)</th>\n",
       "      <th>Total Precip Flag</th>\n",
       "      <th>Snow Grnd Last Day (cm)</th>\n",
       "      <th>Snow Grnd Last Day Flag</th>\n",
       "      <th>Dir of Max Gust (10's deg)</th>\n",
       "      <th>Dir of Max Gust Flag</th>\n",
       "      <th>Spd of Max Gust (km/h)</th>\n",
       "      <th>Spd of Max Gust Flag</th>\n",
       "    </tr>\n",
       "  </thead>\n",
       "  <tbody>\n",
       "    <tr>\n",
       "      <th>0</th>\n",
       "      <td>-79.4</td>\n",
       "      <td>43.67</td>\n",
       "      <td>TORONTO</td>\n",
       "      <td>6158350</td>\n",
       "      <td>1840-01</td>\n",
       "      <td>1840</td>\n",
       "      <td>1</td>\n",
       "      <td>NaN</td>\n",
       "      <td>M</td>\n",
       "      <td>NaN</td>\n",
       "      <td>...</td>\n",
       "      <td>NaN</td>\n",
       "      <td>M</td>\n",
       "      <td>NaN</td>\n",
       "      <td>M</td>\n",
       "      <td>NaN</td>\n",
       "      <td>NaN</td>\n",
       "      <td>NaN</td>\n",
       "      <td>NaN</td>\n",
       "      <td>NaN</td>\n",
       "      <td>NaN</td>\n",
       "    </tr>\n",
       "    <tr>\n",
       "      <th>1</th>\n",
       "      <td>-79.4</td>\n",
       "      <td>43.67</td>\n",
       "      <td>TORONTO</td>\n",
       "      <td>6158350</td>\n",
       "      <td>1840-02</td>\n",
       "      <td>1840</td>\n",
       "      <td>2</td>\n",
       "      <td>NaN</td>\n",
       "      <td>M</td>\n",
       "      <td>NaN</td>\n",
       "      <td>...</td>\n",
       "      <td>NaN</td>\n",
       "      <td>M</td>\n",
       "      <td>NaN</td>\n",
       "      <td>M</td>\n",
       "      <td>NaN</td>\n",
       "      <td>NaN</td>\n",
       "      <td>NaN</td>\n",
       "      <td>NaN</td>\n",
       "      <td>NaN</td>\n",
       "      <td>NaN</td>\n",
       "    </tr>\n",
       "    <tr>\n",
       "      <th>2</th>\n",
       "      <td>-79.4</td>\n",
       "      <td>43.67</td>\n",
       "      <td>TORONTO</td>\n",
       "      <td>6158350</td>\n",
       "      <td>1840-03</td>\n",
       "      <td>1840</td>\n",
       "      <td>3</td>\n",
       "      <td>5.2</td>\n",
       "      <td>NaN</td>\n",
       "      <td>-2.9</td>\n",
       "      <td>...</td>\n",
       "      <td>NaN</td>\n",
       "      <td>M</td>\n",
       "      <td>NaN</td>\n",
       "      <td>M</td>\n",
       "      <td>NaN</td>\n",
       "      <td>NaN</td>\n",
       "      <td>NaN</td>\n",
       "      <td>NaN</td>\n",
       "      <td>NaN</td>\n",
       "      <td>NaN</td>\n",
       "    </tr>\n",
       "    <tr>\n",
       "      <th>3</th>\n",
       "      <td>-79.4</td>\n",
       "      <td>43.67</td>\n",
       "      <td>TORONTO</td>\n",
       "      <td>6158350</td>\n",
       "      <td>1840-04</td>\n",
       "      <td>1840</td>\n",
       "      <td>4</td>\n",
       "      <td>11.1</td>\n",
       "      <td>NaN</td>\n",
       "      <td>2.3</td>\n",
       "      <td>...</td>\n",
       "      <td>NaN</td>\n",
       "      <td>M</td>\n",
       "      <td>NaN</td>\n",
       "      <td>M</td>\n",
       "      <td>NaN</td>\n",
       "      <td>NaN</td>\n",
       "      <td>NaN</td>\n",
       "      <td>NaN</td>\n",
       "      <td>NaN</td>\n",
       "      <td>NaN</td>\n",
       "    </tr>\n",
       "    <tr>\n",
       "      <th>4</th>\n",
       "      <td>-79.4</td>\n",
       "      <td>43.67</td>\n",
       "      <td>TORONTO</td>\n",
       "      <td>6158350</td>\n",
       "      <td>1840-05</td>\n",
       "      <td>1840</td>\n",
       "      <td>5</td>\n",
       "      <td>17.2</td>\n",
       "      <td>NaN</td>\n",
       "      <td>7.6</td>\n",
       "      <td>...</td>\n",
       "      <td>0.0</td>\n",
       "      <td>NaN</td>\n",
       "      <td>105.7</td>\n",
       "      <td>NaN</td>\n",
       "      <td>NaN</td>\n",
       "      <td>NaN</td>\n",
       "      <td>NaN</td>\n",
       "      <td>NaN</td>\n",
       "      <td>NaN</td>\n",
       "      <td>NaN</td>\n",
       "    </tr>\n",
       "  </tbody>\n",
       "</table>\n",
       "<p>5 rows × 29 columns</p>\n",
       "</div>"
      ],
      "text/plain": [
       "   Longitude (x)  Latitude (y) Station Name  Climate ID Date/Time  Year  \\\n",
       "0          -79.4         43.67      TORONTO     6158350   1840-01  1840   \n",
       "1          -79.4         43.67      TORONTO     6158350   1840-02  1840   \n",
       "2          -79.4         43.67      TORONTO     6158350   1840-03  1840   \n",
       "3          -79.4         43.67      TORONTO     6158350   1840-04  1840   \n",
       "4          -79.4         43.67      TORONTO     6158350   1840-05  1840   \n",
       "\n",
       "   Month  Mean Max Temp (°C) Mean Max Temp Flag  Mean Min Temp (°C)  ...  \\\n",
       "0      1                 NaN                  M                 NaN  ...   \n",
       "1      2                 NaN                  M                 NaN  ...   \n",
       "2      3                 5.2                NaN                -2.9  ...   \n",
       "3      4                11.1                NaN                 2.3  ...   \n",
       "4      5                17.2                NaN                 7.6  ...   \n",
       "\n",
       "  Total Snow (cm)  Total Snow Flag Total Precip (mm)  Total Precip Flag  \\\n",
       "0             NaN                M               NaN                  M   \n",
       "1             NaN                M               NaN                  M   \n",
       "2             NaN                M               NaN                  M   \n",
       "3             NaN                M               NaN                  M   \n",
       "4             0.0              NaN             105.7                NaN   \n",
       "\n",
       "  Snow Grnd Last Day (cm)  Snow Grnd Last Day Flag Dir of Max Gust (10's deg)  \\\n",
       "0                     NaN                      NaN                        NaN   \n",
       "1                     NaN                      NaN                        NaN   \n",
       "2                     NaN                      NaN                        NaN   \n",
       "3                     NaN                      NaN                        NaN   \n",
       "4                     NaN                      NaN                        NaN   \n",
       "\n",
       "   Dir of Max Gust Flag Spd of Max Gust (km/h)  Spd of Max Gust Flag  \n",
       "0                   NaN                    NaN                   NaN  \n",
       "1                   NaN                    NaN                   NaN  \n",
       "2                   NaN                    NaN                   NaN  \n",
       "3                   NaN                    NaN                   NaN  \n",
       "4                   NaN                    NaN                   NaN  \n",
       "\n",
       "[5 rows x 29 columns]"
      ]
     },
     "execution_count": 9,
     "metadata": {},
     "output_type": "execute_result"
    }
   ],
   "source": [
    "weather_data.head()"
   ]
  },
  {
   "cell_type": "code",
   "execution_count": 10,
   "id": "6579eeab",
   "metadata": {},
   "outputs": [
    {
     "name": "stdout",
     "output_type": "stream",
     "text": [
      "Longitude (x)\n",
      "Latitude (y)\n",
      "Station Name\n",
      "Climate ID\n",
      "Date/Time\n",
      "Year\n",
      "Month\n",
      "Mean Max Temp (°C)\n",
      "Mean Max Temp Flag\n",
      "Mean Min Temp (°C)\n",
      "Mean Min Temp Flag\n",
      "Mean Temp (°C)\n",
      "Mean Temp Flag\n",
      "Extr Max Temp (°C)\n",
      "Extr Max Temp Flag\n",
      "Extr Min Temp (°C)\n",
      "Extr Min Temp Flag\n",
      "Total Rain (mm)\n",
      "Total Rain Flag\n",
      "Total Snow (cm)\n",
      "Total Snow Flag\n",
      "Total Precip (mm)\n",
      "Total Precip Flag\n",
      "Snow Grnd Last Day (cm)\n",
      "Snow Grnd Last Day Flag\n",
      "Dir of Max Gust (10's deg)\n",
      "Dir of Max Gust Flag\n",
      "Spd of Max Gust (km/h)\n",
      "Spd of Max Gust Flag\n"
     ]
    }
   ],
   "source": [
    "for col in weather_data.columns:\n",
    "    print(col)"
   ]
  },
  {
   "cell_type": "code",
   "execution_count": 11,
   "id": "b89c46b1",
   "metadata": {},
   "outputs": [],
   "source": [
    "# remove uncessary columns\n",
    "weather_df= weather_data.drop(weather_data[['Mean Max Temp Flag',\n",
    "                                            'Mean Min Temp Flag',\n",
    "                                            'Mean Temp Flag',\n",
    "                                            'Extr Min Temp Flag',\n",
    "                                            'Extr Max Temp Flag',\n",
    "                                            'Total Rain (mm)',\n",
    "                                            'Total Rain Flag',\n",
    "                                            'Total Snow (cm)',\n",
    "                                            'Total Snow Flag',\n",
    "                                            'Total Precip (mm)',\n",
    "                                            'Total Precip Flag',\n",
    "                                            'Snow Grnd Last Day (cm)',\n",
    "                                            'Snow Grnd Last Day Flag',\n",
    "                                            \"Dir of Max Gust (10's deg)\",\n",
    "                                            'Dir of Max Gust Flag',\n",
    "                                            'Spd of Max Gust (km/h)',\n",
    "                                            'Spd of Max Gust Flag']], axis=1)"
   ]
  },
  {
   "cell_type": "code",
   "execution_count": 12,
   "id": "ddd9f8aa",
   "metadata": {},
   "outputs": [
    {
     "data": {
      "text/html": [
       "<div>\n",
       "<style scoped>\n",
       "    .dataframe tbody tr th:only-of-type {\n",
       "        vertical-align: middle;\n",
       "    }\n",
       "\n",
       "    .dataframe tbody tr th {\n",
       "        vertical-align: top;\n",
       "    }\n",
       "\n",
       "    .dataframe thead th {\n",
       "        text-align: right;\n",
       "    }\n",
       "</style>\n",
       "<table border=\"1\" class=\"dataframe\">\n",
       "  <thead>\n",
       "    <tr style=\"text-align: right;\">\n",
       "      <th></th>\n",
       "      <th>Longitude (x)</th>\n",
       "      <th>Latitude (y)</th>\n",
       "      <th>Station Name</th>\n",
       "      <th>Climate ID</th>\n",
       "      <th>Date/Time</th>\n",
       "      <th>Year</th>\n",
       "      <th>Month</th>\n",
       "      <th>Mean Max Temp (°C)</th>\n",
       "      <th>Mean Min Temp (°C)</th>\n",
       "      <th>Mean Temp (°C)</th>\n",
       "      <th>Extr Max Temp (°C)</th>\n",
       "      <th>Extr Min Temp (°C)</th>\n",
       "    </tr>\n",
       "  </thead>\n",
       "  <tbody>\n",
       "    <tr>\n",
       "      <th>0</th>\n",
       "      <td>-79.4</td>\n",
       "      <td>43.67</td>\n",
       "      <td>TORONTO</td>\n",
       "      <td>6158350</td>\n",
       "      <td>1840-01</td>\n",
       "      <td>1840</td>\n",
       "      <td>1</td>\n",
       "      <td>NaN</td>\n",
       "      <td>NaN</td>\n",
       "      <td>NaN</td>\n",
       "      <td>NaN</td>\n",
       "      <td>NaN</td>\n",
       "    </tr>\n",
       "    <tr>\n",
       "      <th>1</th>\n",
       "      <td>-79.4</td>\n",
       "      <td>43.67</td>\n",
       "      <td>TORONTO</td>\n",
       "      <td>6158350</td>\n",
       "      <td>1840-02</td>\n",
       "      <td>1840</td>\n",
       "      <td>2</td>\n",
       "      <td>NaN</td>\n",
       "      <td>NaN</td>\n",
       "      <td>NaN</td>\n",
       "      <td>NaN</td>\n",
       "      <td>NaN</td>\n",
       "    </tr>\n",
       "    <tr>\n",
       "      <th>2</th>\n",
       "      <td>-79.4</td>\n",
       "      <td>43.67</td>\n",
       "      <td>TORONTO</td>\n",
       "      <td>6158350</td>\n",
       "      <td>1840-03</td>\n",
       "      <td>1840</td>\n",
       "      <td>3</td>\n",
       "      <td>5.2</td>\n",
       "      <td>-2.9</td>\n",
       "      <td>1.2</td>\n",
       "      <td>NaN</td>\n",
       "      <td>NaN</td>\n",
       "    </tr>\n",
       "    <tr>\n",
       "      <th>3</th>\n",
       "      <td>-79.4</td>\n",
       "      <td>43.67</td>\n",
       "      <td>TORONTO</td>\n",
       "      <td>6158350</td>\n",
       "      <td>1840-04</td>\n",
       "      <td>1840</td>\n",
       "      <td>4</td>\n",
       "      <td>11.1</td>\n",
       "      <td>2.3</td>\n",
       "      <td>6.7</td>\n",
       "      <td>NaN</td>\n",
       "      <td>NaN</td>\n",
       "    </tr>\n",
       "    <tr>\n",
       "      <th>4</th>\n",
       "      <td>-79.4</td>\n",
       "      <td>43.67</td>\n",
       "      <td>TORONTO</td>\n",
       "      <td>6158350</td>\n",
       "      <td>1840-05</td>\n",
       "      <td>1840</td>\n",
       "      <td>5</td>\n",
       "      <td>17.2</td>\n",
       "      <td>7.6</td>\n",
       "      <td>12.4</td>\n",
       "      <td>24.4</td>\n",
       "      <td>-0.6</td>\n",
       "    </tr>\n",
       "  </tbody>\n",
       "</table>\n",
       "</div>"
      ],
      "text/plain": [
       "   Longitude (x)  Latitude (y) Station Name  Climate ID Date/Time  Year  \\\n",
       "0          -79.4         43.67      TORONTO     6158350   1840-01  1840   \n",
       "1          -79.4         43.67      TORONTO     6158350   1840-02  1840   \n",
       "2          -79.4         43.67      TORONTO     6158350   1840-03  1840   \n",
       "3          -79.4         43.67      TORONTO     6158350   1840-04  1840   \n",
       "4          -79.4         43.67      TORONTO     6158350   1840-05  1840   \n",
       "\n",
       "   Month  Mean Max Temp (°C)  Mean Min Temp (°C)  Mean Temp (°C)  \\\n",
       "0      1                 NaN                 NaN             NaN   \n",
       "1      2                 NaN                 NaN             NaN   \n",
       "2      3                 5.2                -2.9             1.2   \n",
       "3      4                11.1                 2.3             6.7   \n",
       "4      5                17.2                 7.6            12.4   \n",
       "\n",
       "   Extr Max Temp (°C)  Extr Min Temp (°C)  \n",
       "0                 NaN                 NaN  \n",
       "1                 NaN                 NaN  \n",
       "2                 NaN                 NaN  \n",
       "3                 NaN                 NaN  \n",
       "4                24.4                -0.6  "
      ]
     },
     "execution_count": 12,
     "metadata": {},
     "output_type": "execute_result"
    }
   ],
   "source": [
    "weather_df.head()"
   ]
  },
  {
   "cell_type": "code",
   "execution_count": 13,
   "id": "99d15ac7",
   "metadata": {
    "scrolled": true
   },
   "outputs": [
    {
     "data": {
      "text/plain": [
       "Longitude (x)          0\n",
       "Latitude (y)           0\n",
       "Station Name           0\n",
       "Climate ID             0\n",
       "Date/Time              0\n",
       "Year                   0\n",
       "Month                  0\n",
       "Mean Max Temp (°C)    44\n",
       "Mean Min Temp (°C)    44\n",
       "Mean Temp (°C)        44\n",
       "Extr Max Temp (°C)    47\n",
       "Extr Min Temp (°C)    47\n",
       "dtype: int64"
      ]
     },
     "execution_count": 13,
     "metadata": {},
     "output_type": "execute_result"
    }
   ],
   "source": [
    "weather_df.isna().sum()"
   ]
  },
  {
   "cell_type": "code",
   "execution_count": 14,
   "id": "ea9d0d70",
   "metadata": {
    "scrolled": true
   },
   "outputs": [
    {
     "data": {
      "text/plain": [
       "Longitude (x)         float64\n",
       "Latitude (y)          float64\n",
       "Station Name           object\n",
       "Climate ID              int64\n",
       "Date/Time              object\n",
       "Year                    int64\n",
       "Month                   int64\n",
       "Mean Max Temp (°C)    float64\n",
       "Mean Min Temp (°C)    float64\n",
       "Mean Temp (°C)        float64\n",
       "Extr Max Temp (°C)    float64\n",
       "Extr Min Temp (°C)    float64\n",
       "dtype: object"
      ]
     },
     "execution_count": 14,
     "metadata": {},
     "output_type": "execute_result"
    }
   ],
   "source": [
    "weather_df.dtypes"
   ]
  },
  {
   "cell_type": "code",
   "execution_count": 15,
   "id": "e93f6b76",
   "metadata": {},
   "outputs": [
    {
     "data": {
      "text/plain": [
       "Longitude (x)         2004\n",
       "Latitude (y)          2004\n",
       "Station Name          2004\n",
       "Climate ID            2004\n",
       "Date/Time             2004\n",
       "Year                  2004\n",
       "Month                 2004\n",
       "Mean Max Temp (°C)    1960\n",
       "Mean Min Temp (°C)    1960\n",
       "Mean Temp (°C)        1960\n",
       "Extr Max Temp (°C)    1957\n",
       "Extr Min Temp (°C)    1957\n",
       "dtype: int64"
      ]
     },
     "execution_count": 15,
     "metadata": {},
     "output_type": "execute_result"
    }
   ],
   "source": [
    "weather_df.count()"
   ]
  },
  {
   "cell_type": "code",
   "execution_count": 16,
   "id": "ba402e4d",
   "metadata": {
    "scrolled": true
   },
   "outputs": [
    {
     "data": {
      "text/plain": [
       "Longitude (x)         0.000000\n",
       "Latitude (y)          0.000000\n",
       "Station Name          0.000000\n",
       "Climate ID            0.000000\n",
       "Date/Time             0.000000\n",
       "Year                  0.000000\n",
       "Month                 0.000000\n",
       "Mean Max Temp (°C)    2.244898\n",
       "Mean Min Temp (°C)    2.244898\n",
       "Mean Temp (°C)        2.244898\n",
       "Extr Max Temp (°C)    2.401635\n",
       "Extr Min Temp (°C)    2.401635\n",
       "dtype: float64"
      ]
     },
     "execution_count": 16,
     "metadata": {},
     "output_type": "execute_result"
    }
   ],
   "source": [
    "(weather_df.isna().sum()/weather_df.count()) * 100\n",
    "# less than 2.5% NAN columns, we can filter those rows"
   ]
  },
  {
   "cell_type": "markdown",
   "id": "4fe459e8",
   "metadata": {},
   "source": [
    "## Filter out NaN rows"
   ]
  },
  {
   "cell_type": "code",
   "execution_count": 17,
   "id": "932d0e72",
   "metadata": {},
   "outputs": [],
   "source": [
    "for col in weather_df.columns:\n",
    "    weather_df = weather_df[weather_df[col].notna()]"
   ]
  },
  {
   "cell_type": "code",
   "execution_count": 18,
   "id": "96408981",
   "metadata": {},
   "outputs": [
    {
     "data": {
      "text/plain": [
       "Longitude (x)         0\n",
       "Latitude (y)          0\n",
       "Station Name          0\n",
       "Climate ID            0\n",
       "Date/Time             0\n",
       "Year                  0\n",
       "Month                 0\n",
       "Mean Max Temp (°C)    0\n",
       "Mean Min Temp (°C)    0\n",
       "Mean Temp (°C)        0\n",
       "Extr Max Temp (°C)    0\n",
       "Extr Min Temp (°C)    0\n",
       "dtype: int64"
      ]
     },
     "execution_count": 18,
     "metadata": {},
     "output_type": "execute_result"
    }
   ],
   "source": [
    "weather_df.isna().sum()"
   ]
  },
  {
   "cell_type": "code",
   "execution_count": 19,
   "id": "02a6a0ea",
   "metadata": {},
   "outputs": [
    {
     "data": {
      "text/plain": [
       "164"
      ]
     },
     "execution_count": 19,
     "metadata": {},
     "output_type": "execute_result"
    }
   ],
   "source": [
    "weather_df['Year'].nunique()"
   ]
  },
  {
   "cell_type": "markdown",
   "id": "e799126a",
   "metadata": {},
   "source": [
    "## Filter for years 1996 - 1998, merage and save output"
   ]
  },
  {
   "cell_type": "code",
   "execution_count": 20,
   "id": "d05ea571",
   "metadata": {},
   "outputs": [],
   "source": [
    "weather_1996=weather_df[weather_df['Year']==1996]\n",
    "weather_1997=weather_df[weather_df['Year']==1997]\n",
    "weather_1998=weather_df[weather_df['Year']==1998]"
   ]
  },
  {
   "cell_type": "code",
   "execution_count": 21,
   "id": "4408d42a",
   "metadata": {},
   "outputs": [
    {
     "data": {
      "text/html": [
       "<div>\n",
       "<style scoped>\n",
       "    .dataframe tbody tr th:only-of-type {\n",
       "        vertical-align: middle;\n",
       "    }\n",
       "\n",
       "    .dataframe tbody tr th {\n",
       "        vertical-align: top;\n",
       "    }\n",
       "\n",
       "    .dataframe thead th {\n",
       "        text-align: right;\n",
       "    }\n",
       "</style>\n",
       "<table border=\"1\" class=\"dataframe\">\n",
       "  <thead>\n",
       "    <tr style=\"text-align: right;\">\n",
       "      <th></th>\n",
       "      <th>Longitude (x)</th>\n",
       "      <th>Latitude (y)</th>\n",
       "      <th>Station Name</th>\n",
       "      <th>Climate ID</th>\n",
       "      <th>Date/Time</th>\n",
       "      <th>Year</th>\n",
       "      <th>Month</th>\n",
       "      <th>Mean Max Temp (°C)</th>\n",
       "      <th>Mean Min Temp (°C)</th>\n",
       "      <th>Mean Temp (°C)</th>\n",
       "      <th>Extr Max Temp (°C)</th>\n",
       "      <th>Extr Min Temp (°C)</th>\n",
       "    </tr>\n",
       "  </thead>\n",
       "  <tbody>\n",
       "    <tr>\n",
       "      <th>1872</th>\n",
       "      <td>-79.4</td>\n",
       "      <td>43.67</td>\n",
       "      <td>TORONTO</td>\n",
       "      <td>6158350</td>\n",
       "      <td>1996-01</td>\n",
       "      <td>1996</td>\n",
       "      <td>1</td>\n",
       "      <td>-1.3</td>\n",
       "      <td>-8.1</td>\n",
       "      <td>-4.7</td>\n",
       "      <td>13.4</td>\n",
       "      <td>-18.8</td>\n",
       "    </tr>\n",
       "    <tr>\n",
       "      <th>1873</th>\n",
       "      <td>-79.4</td>\n",
       "      <td>43.67</td>\n",
       "      <td>TORONTO</td>\n",
       "      <td>6158350</td>\n",
       "      <td>1996-02</td>\n",
       "      <td>1996</td>\n",
       "      <td>2</td>\n",
       "      <td>-0.7</td>\n",
       "      <td>-6.9</td>\n",
       "      <td>-3.8</td>\n",
       "      <td>9.8</td>\n",
       "      <td>-18.1</td>\n",
       "    </tr>\n",
       "    <tr>\n",
       "      <th>1874</th>\n",
       "      <td>-79.4</td>\n",
       "      <td>43.67</td>\n",
       "      <td>TORONTO</td>\n",
       "      <td>6158350</td>\n",
       "      <td>1996-03</td>\n",
       "      <td>1996</td>\n",
       "      <td>3</td>\n",
       "      <td>2.4</td>\n",
       "      <td>-4.2</td>\n",
       "      <td>-0.9</td>\n",
       "      <td>13.9</td>\n",
       "      <td>-15.0</td>\n",
       "    </tr>\n",
       "    <tr>\n",
       "      <th>1875</th>\n",
       "      <td>-79.4</td>\n",
       "      <td>43.67</td>\n",
       "      <td>TORONTO</td>\n",
       "      <td>6158350</td>\n",
       "      <td>1996-04</td>\n",
       "      <td>1996</td>\n",
       "      <td>4</td>\n",
       "      <td>9.1</td>\n",
       "      <td>2.2</td>\n",
       "      <td>5.7</td>\n",
       "      <td>22.3</td>\n",
       "      <td>-3.8</td>\n",
       "    </tr>\n",
       "    <tr>\n",
       "      <th>1876</th>\n",
       "      <td>-79.4</td>\n",
       "      <td>43.67</td>\n",
       "      <td>TORONTO</td>\n",
       "      <td>6158350</td>\n",
       "      <td>1996-05</td>\n",
       "      <td>1996</td>\n",
       "      <td>5</td>\n",
       "      <td>16.8</td>\n",
       "      <td>8.7</td>\n",
       "      <td>12.8</td>\n",
       "      <td>28.7</td>\n",
       "      <td>2.0</td>\n",
       "    </tr>\n",
       "  </tbody>\n",
       "</table>\n",
       "</div>"
      ],
      "text/plain": [
       "      Longitude (x)  Latitude (y) Station Name  Climate ID Date/Time  Year  \\\n",
       "1872          -79.4         43.67      TORONTO     6158350   1996-01  1996   \n",
       "1873          -79.4         43.67      TORONTO     6158350   1996-02  1996   \n",
       "1874          -79.4         43.67      TORONTO     6158350   1996-03  1996   \n",
       "1875          -79.4         43.67      TORONTO     6158350   1996-04  1996   \n",
       "1876          -79.4         43.67      TORONTO     6158350   1996-05  1996   \n",
       "\n",
       "      Month  Mean Max Temp (°C)  Mean Min Temp (°C)  Mean Temp (°C)  \\\n",
       "1872      1                -1.3                -8.1            -4.7   \n",
       "1873      2                -0.7                -6.9            -3.8   \n",
       "1874      3                 2.4                -4.2            -0.9   \n",
       "1875      4                 9.1                 2.2             5.7   \n",
       "1876      5                16.8                 8.7            12.8   \n",
       "\n",
       "      Extr Max Temp (°C)  Extr Min Temp (°C)  \n",
       "1872                13.4               -18.8  \n",
       "1873                 9.8               -18.1  \n",
       "1874                13.9               -15.0  \n",
       "1875                22.3                -3.8  \n",
       "1876                28.7                 2.0  "
      ]
     },
     "execution_count": 21,
     "metadata": {},
     "output_type": "execute_result"
    }
   ],
   "source": [
    "weather_1996.head()"
   ]
  },
  {
   "cell_type": "code",
   "execution_count": 22,
   "id": "e6fadbde",
   "metadata": {},
   "outputs": [],
   "source": [
    "weather_1996.reset_index(drop=True, inplace=True)\n",
    "weather_1997.reset_index(drop=True, inplace=True)\n",
    "weather_1998.reset_index(drop=True, inplace=True)"
   ]
  },
  {
   "cell_type": "code",
   "execution_count": 23,
   "id": "2b7a295b",
   "metadata": {},
   "outputs": [
    {
     "data": {
      "text/html": [
       "<div>\n",
       "<style scoped>\n",
       "    .dataframe tbody tr th:only-of-type {\n",
       "        vertical-align: middle;\n",
       "    }\n",
       "\n",
       "    .dataframe tbody tr th {\n",
       "        vertical-align: top;\n",
       "    }\n",
       "\n",
       "    .dataframe thead th {\n",
       "        text-align: right;\n",
       "    }\n",
       "</style>\n",
       "<table border=\"1\" class=\"dataframe\">\n",
       "  <thead>\n",
       "    <tr style=\"text-align: right;\">\n",
       "      <th></th>\n",
       "      <th>Longitude (x)</th>\n",
       "      <th>Latitude (y)</th>\n",
       "      <th>Station Name</th>\n",
       "      <th>Climate ID</th>\n",
       "      <th>Date/Time</th>\n",
       "      <th>Year</th>\n",
       "      <th>Month</th>\n",
       "      <th>Mean Max Temp (°C)</th>\n",
       "      <th>Mean Min Temp (°C)</th>\n",
       "      <th>Mean Temp (°C)</th>\n",
       "      <th>Extr Max Temp (°C)</th>\n",
       "      <th>Extr Min Temp (°C)</th>\n",
       "    </tr>\n",
       "  </thead>\n",
       "  <tbody>\n",
       "    <tr>\n",
       "      <th>0</th>\n",
       "      <td>-79.4</td>\n",
       "      <td>43.67</td>\n",
       "      <td>TORONTO</td>\n",
       "      <td>6158350</td>\n",
       "      <td>1996-01</td>\n",
       "      <td>1996</td>\n",
       "      <td>1</td>\n",
       "      <td>-1.3</td>\n",
       "      <td>-8.1</td>\n",
       "      <td>-4.7</td>\n",
       "      <td>13.4</td>\n",
       "      <td>-18.8</td>\n",
       "    </tr>\n",
       "    <tr>\n",
       "      <th>1</th>\n",
       "      <td>-79.4</td>\n",
       "      <td>43.67</td>\n",
       "      <td>TORONTO</td>\n",
       "      <td>6158350</td>\n",
       "      <td>1996-02</td>\n",
       "      <td>1996</td>\n",
       "      <td>2</td>\n",
       "      <td>-0.7</td>\n",
       "      <td>-6.9</td>\n",
       "      <td>-3.8</td>\n",
       "      <td>9.8</td>\n",
       "      <td>-18.1</td>\n",
       "    </tr>\n",
       "    <tr>\n",
       "      <th>2</th>\n",
       "      <td>-79.4</td>\n",
       "      <td>43.67</td>\n",
       "      <td>TORONTO</td>\n",
       "      <td>6158350</td>\n",
       "      <td>1996-03</td>\n",
       "      <td>1996</td>\n",
       "      <td>3</td>\n",
       "      <td>2.4</td>\n",
       "      <td>-4.2</td>\n",
       "      <td>-0.9</td>\n",
       "      <td>13.9</td>\n",
       "      <td>-15.0</td>\n",
       "    </tr>\n",
       "    <tr>\n",
       "      <th>3</th>\n",
       "      <td>-79.4</td>\n",
       "      <td>43.67</td>\n",
       "      <td>TORONTO</td>\n",
       "      <td>6158350</td>\n",
       "      <td>1996-04</td>\n",
       "      <td>1996</td>\n",
       "      <td>4</td>\n",
       "      <td>9.1</td>\n",
       "      <td>2.2</td>\n",
       "      <td>5.7</td>\n",
       "      <td>22.3</td>\n",
       "      <td>-3.8</td>\n",
       "    </tr>\n",
       "    <tr>\n",
       "      <th>4</th>\n",
       "      <td>-79.4</td>\n",
       "      <td>43.67</td>\n",
       "      <td>TORONTO</td>\n",
       "      <td>6158350</td>\n",
       "      <td>1996-05</td>\n",
       "      <td>1996</td>\n",
       "      <td>5</td>\n",
       "      <td>16.8</td>\n",
       "      <td>8.7</td>\n",
       "      <td>12.8</td>\n",
       "      <td>28.7</td>\n",
       "      <td>2.0</td>\n",
       "    </tr>\n",
       "  </tbody>\n",
       "</table>\n",
       "</div>"
      ],
      "text/plain": [
       "   Longitude (x)  Latitude (y) Station Name  Climate ID Date/Time  Year  \\\n",
       "0          -79.4         43.67      TORONTO     6158350   1996-01  1996   \n",
       "1          -79.4         43.67      TORONTO     6158350   1996-02  1996   \n",
       "2          -79.4         43.67      TORONTO     6158350   1996-03  1996   \n",
       "3          -79.4         43.67      TORONTO     6158350   1996-04  1996   \n",
       "4          -79.4         43.67      TORONTO     6158350   1996-05  1996   \n",
       "\n",
       "   Month  Mean Max Temp (°C)  Mean Min Temp (°C)  Mean Temp (°C)  \\\n",
       "0      1                -1.3                -8.1            -4.7   \n",
       "1      2                -0.7                -6.9            -3.8   \n",
       "2      3                 2.4                -4.2            -0.9   \n",
       "3      4                 9.1                 2.2             5.7   \n",
       "4      5                16.8                 8.7            12.8   \n",
       "\n",
       "   Extr Max Temp (°C)  Extr Min Temp (°C)  \n",
       "0                13.4               -18.8  \n",
       "1                 9.8               -18.1  \n",
       "2                13.9               -15.0  \n",
       "3                22.3                -3.8  \n",
       "4                28.7                 2.0  "
      ]
     },
     "execution_count": 23,
     "metadata": {},
     "output_type": "execute_result"
    }
   ],
   "source": [
    "weather_1996.head()"
   ]
  },
  {
   "cell_type": "code",
   "execution_count": 24,
   "id": "6122a3f4",
   "metadata": {},
   "outputs": [],
   "source": [
    "weather_1996.to_csv('weather_1996.csv')\n",
    "weather_1996.to_csv('weather_1997.csv')\n",
    "weather_1996.to_csv('weather_1998.csv')"
   ]
  },
  {
   "cell_type": "code",
   "execution_count": 25,
   "id": "ebf0abd7",
   "metadata": {},
   "outputs": [],
   "source": [
    "weather_all=pd.concat([weather_1996, weather_1997, weather_1998], ignore_index=True)"
   ]
  },
  {
   "cell_type": "code",
   "execution_count": 26,
   "id": "c18e139f",
   "metadata": {},
   "outputs": [],
   "source": [
    "weather_all.to_csv('weather_all.csv')"
   ]
  },
  {
   "cell_type": "markdown",
   "id": "d9849fe6",
   "metadata": {},
   "source": [
    "## Questions"
   ]
  },
  {
   "cell_type": "markdown",
   "id": "0fe02cfd",
   "metadata": {},
   "source": [
    "### Min and Max temperatures for year"
   ]
  },
  {
   "cell_type": "code",
   "execution_count": 27,
   "id": "e025837a",
   "metadata": {},
   "outputs": [
    {
     "data": {
      "text/plain": [
       "Year\n",
       "1996   -4.7\n",
       "1997   -4.6\n",
       "1998   -0.7\n",
       "Name: Mean Temp (°C), dtype: float64"
      ]
     },
     "execution_count": 27,
     "metadata": {},
     "output_type": "execute_result"
    }
   ],
   "source": [
    "weather_all.groupby('Year')['Mean Temp (°C)'].min()"
   ]
  },
  {
   "cell_type": "code",
   "execution_count": 28,
   "id": "10cb2926",
   "metadata": {},
   "outputs": [
    {
     "data": {
      "text/plain": [
       "-0.7"
      ]
     },
     "execution_count": 28,
     "metadata": {},
     "output_type": "execute_result"
    }
   ],
   "source": [
    "weather_all[weather_all['Year']==1998]['Mean Temp (°C)'].min()"
   ]
  },
  {
   "cell_type": "code",
   "execution_count": 29,
   "id": "ebf7eca7",
   "metadata": {
    "scrolled": true
   },
   "outputs": [
    {
     "data": {
      "text/plain": [
       "Year\n",
       "1996    22.1\n",
       "1997    21.6\n",
       "1998    22.7\n",
       "Name: Mean Temp (°C), dtype: float64"
      ]
     },
     "execution_count": 29,
     "metadata": {},
     "output_type": "execute_result"
    }
   ],
   "source": [
    "weather_all.groupby('Year')['Mean Temp (°C)'].max()"
   ]
  },
  {
   "cell_type": "markdown",
   "id": "11ec634a",
   "metadata": {},
   "source": [
    "### % difference between the average daily temperature for the year versus the average of the previous 2 years"
   ]
  },
  {
   "cell_type": "code",
   "execution_count": 30,
   "id": "e601be45",
   "metadata": {},
   "outputs": [
    {
     "data": {
      "text/plain": [
       "0.2690166975881261"
      ]
     },
     "execution_count": 30,
     "metadata": {},
     "output_type": "execute_result"
    }
   ],
   "source": [
    "((weather_all[weather_all['Year']==1998]['Mean Temp (°C)'].mean())\\\n",
    "/(weather_all[weather_all['Year']==1997]['Mean Temp (°C)'].mean())) - 1\n"
   ]
  },
  {
   "cell_type": "code",
   "execution_count": 31,
   "id": "0390171a",
   "metadata": {},
   "outputs": [
    {
     "data": {
      "text/plain": [
       "0.3230174081237911"
      ]
     },
     "execution_count": 31,
     "metadata": {},
     "output_type": "execute_result"
    }
   ],
   "source": [
    "((weather_all[weather_all['Year']==1998]['Mean Temp (°C)'].mean())\\\n",
    "/(weather_all[weather_all['Year']==1996]['Mean Temp (°C)'].mean())) - 1"
   ]
  }
 ],
 "metadata": {
  "kernelspec": {
   "display_name": "Python 3 (ipykernel)",
   "language": "python",
   "name": "python3"
  },
  "language_info": {
   "codemirror_mode": {
    "name": "ipython",
    "version": 3
   },
   "file_extension": ".py",
   "mimetype": "text/x-python",
   "name": "python",
   "nbconvert_exporter": "python",
   "pygments_lexer": "ipython3",
   "version": "3.9.7"
  }
 },
 "nbformat": 4,
 "nbformat_minor": 5
}
